{
 "cells": [
  {
   "cell_type": "markdown",
   "metadata": {},
   "source": [
    "<h1 style=\"color:DodgerBlue\">Индивидальный проект</h1>"
   ]
  },
  {
   "cell_type": "markdown",
   "metadata": {},
   "source": [
    "<h2 style=\"color:DodgerBlue\">Название проекта:</h2>\n",
    "\n",
    "----\n",
    "Уведомления\n",
    "\n",
    "### Вариант задания  № 24\n"
   ]
  },
  {
   "cell_type": "markdown",
   "metadata": {},
   "source": [
    "<h2 style=\"color:DodgerBlue\">Описание проекта:</h2>\n",
    "\n",
    "----\n",
    "\n",
    "Создать базовый класс Notification в C#, который будет представлять уведомления\n",
    "пользователям. На основе этого класса разработать 2-3 производных класса,\n",
    "демонстрирующих принципы наследования и полиморфизма. В каждом из классов\n",
    "должны быть реализованы новые атрибуты и методы, а также переопределены\n",
    "некоторые методы базового класса для демонстрации полиморфизма.\n"
   ]
  },
  {
   "cell_type": "markdown",
   "metadata": {},
   "source": [
    "<h2 style=\"color:DodgerBlue\">Реализация:</h2>\n",
    "\n",
    "----"
   ]
  },
  {
   "cell_type": "code",
   "execution_count": 6,
   "metadata": {
    "dotnet_interactive": {
     "language": "csharp"
    },
    "polyglot_notebook": {
     "kernelName": "csharp"
    }
   },
   "outputs": [
    {
     "name": "stdout",
     "output_type": "stream",
     "text": [
      "Демонстрация системы уведомлений:\n",
      "==================================\n",
      "\n",
      "--- Обработка уведомления ---\n",
      "Уведомление [1]: Добро пожаловать в нашу систему!\n",
      "Отправлено сообщение на email: user@example.com\n",
      "Отправка email на адрес user@example.com с текстом: Добро пожаловать в нашу систему!\n",
      "Детали: ID: 1, Тип: Email, Сообщение: Добро пожаловать в нашу систему!, Email: user@example.com\n",
      "\n",
      "--- Обработка уведомления ---\n",
      "Уведомление [2]: Ваш код подтверждения: 1234\n",
      "Отправлено SMS на номер: +79991234567\n",
      "Отправка SMS на номер +79991234567 с текстом: Ваш код подтверждения: 1234\n",
      "Детали: ID: 2, Тип: SMS, Сообщение: Ваш код подтверждения: 1234, Номер телефона: +79991234567\n",
      "\n",
      "--- Обработка уведомления ---\n",
      "[Android] Push-уведомление: У вас новое сообщение\n",
      "Отправка push-уведомления на платформу Android\n",
      "Имитация отправки push-уведомления на платформу Android с текстом: У вас новое сообщение\n",
      "Детали: ID: 3, Тип: Push, Сообщение: У вас новое сообщение, Платформа: Android\n",
      "\n",
      "--- Обработка уведомления ---\n",
      "[iOS] Push-уведомление: Обновление приложения доступно\n",
      "Отправка push-уведомления на платформу iOS\n",
      "Имитация отправки push-уведомления на платформу iOS с текстом: Обновление приложения доступно\n",
      "Детали: ID: 4, Тип: Push, Сообщение: Обновление приложения доступно, Платформа: iOS\n",
      "\n",
      "==================================\n",
      "Обработка всех уведомлений завершена!\n"
     ]
    }
   ],
   "source": [
    "using System;\n",
    "public class Notification\n",
    "{\n",
    "    public int NotificationID {get;set;}\n",
    "    public string MessageText {get;set;}\n",
    "    public string Type {get;set;}\n",
    "\n",
    "    public Notification(int id, string message, string type)\n",
    "    {\n",
    "        NotificationID = id;\n",
    "        MessageText = message;\n",
    "        Type = type;\n",
    "    }\n",
    "    public virtual void SendNotification()\n",
    "    {\n",
    "        Console.WriteLine($\"Отправка {Type} уведомления...\");\n",
    "    }\n",
    "    public virtual void DisplayNotification()\n",
    "    {\n",
    "        Console.WriteLine($\"Уведомление [{NotificationID}]: {MessageText}\");\n",
    "    }\n",
    "    public virtual string GetNotificationDetails()\n",
    "    {\n",
    "        return $\"ID: {NotificationID}, Тип: {Type}, Сообщение: {MessageText}\";;\n",
    "    }\n",
    "}\n",
    "public class EmailNotification : Notification\n",
    "{\n",
    "    public string EmailAdress {get;set;}\n",
    "    public EmailNotification(int id, string message, string email) : base(id, message, \"Email\")\n",
    "    {\n",
    "        EmailAdress = email;\n",
    "    }\n",
    "    public override void SendNotification()\n",
    "    {     \n",
    "        \n",
    "        Console.WriteLine($\"Отправлено сообщение на email: {EmailAdress}\");\n",
    "        Console.WriteLine($\"Отправка email на адрес {EmailAdress} с текстом: {MessageText}\");\n",
    "    }\n",
    "    public override string GetNotificationDetails()\n",
    "    {\n",
    "        return base.GetNotificationDetails() + $\", Email: {EmailAdress}\";\n",
    "    }\n",
    "}\n",
    "public class SMSNotification : Notification\n",
    "{\n",
    "    public string PhoneNumber {get;set;}\n",
    "    public SMSNotification(int id, string message, string number) : base(id, message, \"SMS\")\n",
    "    {\n",
    "        PhoneNumber = number;\n",
    "    }\n",
    "    public override void SendNotification()\n",
    "    {\n",
    "        \n",
    "        Console.WriteLine($\"Отправлено SMS на номер: {PhoneNumber}\");\n",
    "        Console.WriteLine($\"Отправка SMS на номер {PhoneNumber} с текстом: {MessageText}\");\n",
    "    }\n",
    "    public override string GetNotificationDetails()\n",
    "    {\n",
    "        return base.GetNotificationDetails() + $\", Номер телефона: {PhoneNumber}\";\n",
    "    }\n",
    "}\n",
    "public class PushNotification : Notification\n",
    "{\n",
    "    public string Platform {get;set;}\n",
    "    public PushNotification(int id, string message, string platform) : base(id, message, \"Push\")\n",
    "    {\n",
    "        Platform = platform;\n",
    "    }\n",
    "    public override void DisplayNotification()\n",
    "    {\n",
    "       \n",
    "        Console.WriteLine($\"[{Platform}] Push-уведомление: {MessageText}\");\n",
    "\n",
    "    }\n",
    "    public override void SendNotification()\n",
    "    {\n",
    "        \n",
    "        Console.WriteLine($\"Отправка push-уведомления на платформу {Platform}\");\n",
    "        Console.WriteLine($\"Имитация отправки push-уведомления на платформу {Platform} с текстом: {MessageText}\");\n",
    "    }\n",
    "    public override string GetNotificationDetails()\n",
    "    {\n",
    "        return base.GetNotificationDetails() + $\", Платформа: {Platform}\";\n",
    "    }\n",
    "}\n",
    "\n",
    "Console.WriteLine(\"Демонстрация системы уведомлений:\");\n",
    "Console.WriteLine(\"==================================\");\n",
    "        \n",
    "var notifications = new List<Notification>\n",
    "{\n",
    "    new EmailNotification(1, \"Добро пожаловать в нашу систему!\", \"user@example.com\"),\n",
    "    new SMSNotification(2, \"Ваш код подтверждения: 1234\", \"+79991234567\"),\n",
    "    new PushNotification(3, \"У вас новое сообщение\", \"Android\"),\n",
    "    new PushNotification(4, \"Обновление приложения доступно\", \"iOS\")\n",
    "};\n",
    "\n",
    "foreach (var notification in notifications)\n",
    "{\n",
    "    Console.WriteLine(\"\\n--- Обработка уведомления ---\");\n",
    "    notification.DisplayNotification();\n",
    "    notification.SendNotification();\n",
    "    Console.WriteLine(\"Детали: \" + notification.GetNotificationDetails());\n",
    "}\n",
    "\n",
    "Console.WriteLine(\"\\n==================================\");\n",
    "Console.WriteLine(\"Обработка всех уведомлений завершена!\");"
   ]
  }
 ],
 "metadata": {
  "kernelspec": {
   "display_name": ".NET (C#)",
   "language": "C#",
   "name": ".net-csharp"
  },
  "polyglot_notebook": {
   "kernelInfo": {
    "defaultKernelName": "csharp",
    "items": [
     {
      "aliases": [],
      "languageName": "csharp",
      "name": "csharp"
     }
    ]
   }
  }
 },
 "nbformat": 4,
 "nbformat_minor": 2
}
